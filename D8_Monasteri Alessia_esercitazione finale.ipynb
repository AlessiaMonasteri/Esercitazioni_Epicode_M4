{
 "cells": [
  {
   "cell_type": "markdown",
   "id": "af2af4f9-45a1-400c-93ba-872190d893ee",
   "metadata": {},
   "source": [
    "### **ESERCITAZIONE FINALE**\n",
    "**1. Si richiede di verificare le dimensioni del dataset e le diciture presenti nell'intestazione.**\n",
    "\n"
   ]
  },
  {
   "cell_type": "code",
   "execution_count": 2,
   "id": "c7d80ca5-a853-4043-894c-134e53c1e97d",
   "metadata": {},
   "outputs": [],
   "source": [
    "import pandas as pd\n",
    "df=pd.read_csv(\"owid-covid-data.CSV.csv\",sep=\",\",low_memory=False)"
   ]
  },
  {
   "cell_type": "code",
   "execution_count": 3,
   "id": "18dea805-02b2-419f-86b2-a4c797cf488c",
   "metadata": {},
   "outputs": [
    {
     "name": "stdout",
     "output_type": "stream",
     "text": [
      "Il dataset è composto da 311365 righe e 67 colonne.\n"
     ]
    }
   ],
   "source": [
    "print('Il dataset è composto da',df.shape[0],'righe e',df.shape[1],'colonne.')"
   ]
  },
  {
   "cell_type": "code",
   "execution_count": 4,
   "id": "2174f8af-d994-4ced-8a08-89f86a6ffc04",
   "metadata": {},
   "outputs": [
    {
     "name": "stdout",
     "output_type": "stream",
     "text": [
      "I campi che compongono il dataset sono:\n"
     ]
    },
    {
     "data": {
      "text/plain": [
       "['iso_code',\n",
       " 'continent',\n",
       " 'location',\n",
       " 'date',\n",
       " 'total_cases',\n",
       " 'new_cases',\n",
       " 'new_cases_smoothed',\n",
       " 'total_deaths',\n",
       " 'new_deaths',\n",
       " 'new_deaths_smoothed',\n",
       " 'total_cases_per_million',\n",
       " 'new_cases_per_million',\n",
       " 'new_cases_smoothed_per_million',\n",
       " 'total_deaths_per_million',\n",
       " 'new_deaths_per_million',\n",
       " 'new_deaths_smoothed_per_million',\n",
       " 'reproduction_rate',\n",
       " 'icu_patients',\n",
       " 'icu_patients_per_million',\n",
       " 'hosp_patients',\n",
       " 'hosp_patients_per_million',\n",
       " 'weekly_icu_admissions',\n",
       " 'weekly_icu_admissions_per_million',\n",
       " 'weekly_hosp_admissions',\n",
       " 'weekly_hosp_admissions_per_million',\n",
       " 'total_tests',\n",
       " 'new_tests',\n",
       " 'total_tests_per_thousand',\n",
       " 'new_tests_per_thousand',\n",
       " 'new_tests_smoothed',\n",
       " 'new_tests_smoothed_per_thousand',\n",
       " 'positive_rate',\n",
       " 'tests_per_case',\n",
       " 'tests_units',\n",
       " 'total_vaccinations',\n",
       " 'people_vaccinated',\n",
       " 'people_fully_vaccinated',\n",
       " 'total_boosters',\n",
       " 'new_vaccinations',\n",
       " 'new_vaccinations_smoothed',\n",
       " 'total_vaccinations_per_hundred',\n",
       " 'people_vaccinated_per_hundred',\n",
       " 'people_fully_vaccinated_per_hundred',\n",
       " 'total_boosters_per_hundred',\n",
       " 'new_vaccinations_smoothed_per_million',\n",
       " 'new_people_vaccinated_smoothed',\n",
       " 'new_people_vaccinated_smoothed_per_hundred',\n",
       " 'stringency_index',\n",
       " 'population_density',\n",
       " 'median_age',\n",
       " 'aged_65_older',\n",
       " 'aged_70_older',\n",
       " 'gdp_per_capita',\n",
       " 'extreme_poverty',\n",
       " 'cardiovasc_death_rate',\n",
       " 'diabetes_prevalence',\n",
       " 'female_smokers',\n",
       " 'male_smokers',\n",
       " 'handwashing_facilities',\n",
       " 'hospital_beds_per_thousand',\n",
       " 'life_expectancy',\n",
       " 'human_development_index',\n",
       " 'population',\n",
       " 'excess_mortality_cumulative_absolute',\n",
       " 'excess_mortality_cumulative',\n",
       " 'excess_mortality',\n",
       " 'excess_mortality_cumulative_per_million']"
      ]
     },
     "execution_count": 4,
     "metadata": {},
     "output_type": "execute_result"
    }
   ],
   "source": [
    "print('I campi che compongono il dataset sono:')\n",
    "list(df.columns)"
   ]
  },
  {
   "cell_type": "markdown",
   "id": "137e41e2-3cff-4801-8e5f-65f68619f1fc",
   "metadata": {},
   "source": [
    "**2. Si chiede poi per ogni continente di trovare il numero di casi totali avvenuti in quello stesso continente;\n",
    "si chiede di non considerare eventuali locazioni che nel dataset non appartengono ad alcun continente.**"
   ]
  },
  {
   "cell_type": "code",
   "execution_count": 15,
   "id": "04c3676d-b895-41ca-a6d0-619c1be1efeb",
   "metadata": {},
   "outputs": [
    {
     "name": "stderr",
     "output_type": "stream",
     "text": [
      "C:\\Users\\Utente\\AppData\\Local\\Temp\\ipykernel_15312\\3270716830.py:1: FutureWarning: The default value of numeric_only in DataFrameGroupBy.sum is deprecated. In a future version, numeric_only will default to False. Either specify numeric_only or select only columns which should be valid for the function.\n",
      "  gruppi_continenti=df.groupby([\"continent\"]).sum()\n"
     ]
    },
    {
     "data": {
      "text/html": [
       "<div>\n",
       "<style scoped>\n",
       "    .dataframe tbody tr th:only-of-type {\n",
       "        vertical-align: middle;\n",
       "    }\n",
       "\n",
       "    .dataframe tbody tr th {\n",
       "        vertical-align: top;\n",
       "    }\n",
       "\n",
       "    .dataframe thead th {\n",
       "        text-align: right;\n",
       "    }\n",
       "</style>\n",
       "<table border=\"1\" class=\"dataframe\">\n",
       "  <thead>\n",
       "    <tr style=\"text-align: right;\">\n",
       "      <th></th>\n",
       "      <th>new_cases</th>\n",
       "    </tr>\n",
       "    <tr>\n",
       "      <th>continent</th>\n",
       "      <th></th>\n",
       "    </tr>\n",
       "  </thead>\n",
       "  <tbody>\n",
       "    <tr>\n",
       "      <th>Africa</th>\n",
       "      <td>13088991.0</td>\n",
       "    </tr>\n",
       "    <tr>\n",
       "      <th>Asia</th>\n",
       "      <td>297234406.0</td>\n",
       "    </tr>\n",
       "    <tr>\n",
       "      <th>Europe</th>\n",
       "      <td>249319188.0</td>\n",
       "    </tr>\n",
       "    <tr>\n",
       "      <th>North America</th>\n",
       "      <td>124175560.0</td>\n",
       "    </tr>\n",
       "    <tr>\n",
       "      <th>Oceania</th>\n",
       "      <td>14073975.0</td>\n",
       "    </tr>\n",
       "    <tr>\n",
       "      <th>South America</th>\n",
       "      <td>68568119.0</td>\n",
       "    </tr>\n",
       "  </tbody>\n",
       "</table>\n",
       "</div>"
      ],
      "text/plain": [
       "                 new_cases\n",
       "continent                 \n",
       "Africa          13088991.0\n",
       "Asia           297234406.0\n",
       "Europe         249319188.0\n",
       "North America  124175560.0\n",
       "Oceania         14073975.0\n",
       "South America   68568119.0"
      ]
     },
     "execution_count": 15,
     "metadata": {},
     "output_type": "execute_result"
    }
   ],
   "source": [
    "gruppi_continenti=df.groupby([\"continent\"]).sum()\n",
    "gruppi_continenti.loc[:,[\"new_cases\"]]"
   ]
  },
  {
   "cell_type": "markdown",
   "id": "3837dc48-c571-4617-9585-5130d33777e8",
   "metadata": {},
   "source": [
    "**NOTA: Essendo il campo \"total_cases\" di tipo cumulativo, l'aggregazione di \"new_cases\" rappresenta in realtà i casi totali.** \n"
   ]
  },
  {
   "cell_type": "markdown",
   "id": "bc05dee7-447a-4e88-9571-07583ca7e300",
   "metadata": {},
   "source": [
    "**3. Sempre riguardo i casi di COVID totali, si chiede di sviluppare una funzione che prenda in input il dataset e due nomi di \n",
    "continenti, e che ne confronti i seguenti relativi descrittori statistici: valori minimo e massimo, media, e percentuale rispetto al \n",
    "numero dei casi totali nel mondo (in questo caso calcolati anche sulle locazioni senza indicazione di continente).**"
   ]
  },
  {
   "cell_type": "code",
   "execution_count": 11,
   "id": "7968a916-48c4-49bc-9414-fe346d893d44",
   "metadata": {},
   "outputs": [],
   "source": [
    "import pandas as pd\n",
    "from tabulate import tabulate\n",
    "dataset_path='owid-covid-data.CSV.csv'\n",
    "\n",
    "def dati_continenti(dataset_path,continente1,continente2):\n",
    "    df=pd.read_csv(dataset_path,sep=\",\",low_memory=False)\n",
    "\n",
    "    righe_continente1=df[df[\"continent\"]==continente1]\n",
    "    casi_continente1=righe_continente1.loc[:,[\"new_cases\"]]\n",
    "    media_continente1=casi_continente1.mean()\n",
    "    max_continente1=casi_continente1.max()\n",
    "    min_continente1=casi_continente1.min()\n",
    "    somma_casi_continente1=casi_continente1.sum()\n",
    "    \n",
    "    righe_continente2=df[df[\"continent\"]==continente2]\n",
    "    casi_continente2=righe_continente2.loc[:,[\"new_cases\"]]\n",
    "    media_continente2=casi_continente2.mean()\n",
    "    max_continente2=casi_continente2.max()\n",
    "    min_continente2=casi_continente2.min()\n",
    "    somma_casi_continente2=casi_continente2.sum() \n",
    "    \n",
    "    casi_mondo=df.loc[:,[\"new_cases\"]]\n",
    "    somma_casi_mondo=casi_mondo.sum()\n",
    "    \n",
    "    cols=['casi covid','media','massimo','minimo','%_sul_mondo']\n",
    "    rows=[[continente1,media_continente1,max_continente1,min_continente1,somma_casi_continente1/somma_casi_mondo*100],\n",
    "          [continente2,media_continente2,max_continente2,min_continente2,somma_casi_continente2/somma_casi_mondo*100]]\n",
    "    \n",
    "    return print(tabulate(rows,cols,tablefmt='rounded_grid'))"
   ]
  },
  {
   "cell_type": "code",
   "execution_count": 16,
   "id": "86370416-2cfa-484a-8870-6b402357b487",
   "metadata": {},
   "outputs": [
    {
     "name": "stdout",
     "output_type": "stream",
     "text": [
      "casi covid        media    massimo    minimo    %_sul_mondo\n",
      "-------------  --------  ---------  --------  -------------\n",
      "South America  3983.28      298408         0        2.11064\n",
      "Oceania         476.438     588813         0        0.43322\n"
     ]
    }
   ],
   "source": [
    "dati_continenti(\"owid-covid-data.CSV.csv\",\"South America\",\"Oceania\")"
   ]
  },
  {
   "cell_type": "markdown",
   "id": "bcab6e2f-9d88-49f8-933b-fce4164f785a",
   "metadata": {},
   "source": [
    "**4. Si chiede poi di effettuare lo stesso tipo di analisi – anche in questo caso sviluppando una funzione ad hoc – per il numero di vaccinazioni totali per ogni continente.**\n"
   ]
  },
  {
   "cell_type": "code",
   "execution_count": 12,
   "id": "f9e12fe1-39df-4599-b812-a2fb5f2a0a91",
   "metadata": {},
   "outputs": [],
   "source": [
    "import pandas as pd\n",
    "from tabulate import tabulate\n",
    "dataset_path=\"owid-covid-data.CSV.csv\"\n",
    "\n",
    "def vax_continenti(dataset_path,continente1,continente2):\n",
    "    df=pd.read_csv(dataset_path,sep=\",\",low_memory=False)\n",
    "    \n",
    "    righe_continente1=df[df[\"continent\"]==continente1]\n",
    "    vax_continente1=righe_continente1.loc[:,[\"new_vaccinations\"]]\n",
    "    media_continente1=vax_continente1.mean()\n",
    "    max_continente1=vax_continente1.max()\n",
    "    min_continente1=vax_continente1.min()\n",
    "    somma_vax_continente1=vax_continente1.sum()\n",
    "    \n",
    "    righe_continente2=df[df[\"continent\"]==continente2]\n",
    "    vax_continente2=righe_continente2.loc[:,[\"new_vaccinations\"]]\n",
    "    media_continente2=vax_continente2.mean()\n",
    "    max_continente2=vax_continente2.max()\n",
    "    min_continente2=vax_continente2.min()\n",
    "    somma_vax_continente2=vax_continente2.sum()\n",
    "    \n",
    "    vax_mondo=df.loc[:,[\"new_vaccinations\"]]\n",
    "    somma_vax_mondo=vax_mondo.sum()\n",
    "    \n",
    "    cols=[\"vaccinazioni\",\"media\",\"massimo\",\"minimo\",\"%_sul_mondo\"]\n",
    "    rows=[[continente1,media_continente1,max_continente1,min_continente1,somma_vax_continente1/somma_vax_mondo*100],\n",
    "          [continente2,media_continente2,max_continente2,min_continente2,somma_vax_continente2/somma_vax_mondo*100]]\n",
    "    \n",
    "    return print(tabulate(rows,cols,tablefmt=\"rounded_grid\"))"
   ]
  },
  {
   "cell_type": "code",
   "execution_count": 17,
   "id": "af1a6f16-bbf3-4fbe-9ef8-50315bc3f55e",
   "metadata": {},
   "outputs": [
    {
     "name": "stdout",
     "output_type": "stream",
     "text": [
      "vaccinazioni       media      massimo    minimo    %_sul_mondo\n",
      "--------------  --------  -----------  --------  -------------\n",
      "South America   150921    3.9766e+06          1        1.62425\n",
      "Europe           60008.3  2.38947e+06         0        2.43659\n"
     ]
    }
   ],
   "source": [
    "vax_continenti(\"owid-covid-data.CSV.csv\",\"South America\",\"Europe\")"
   ]
  },
  {
   "cell_type": "markdown",
   "id": "6f887298-7415-4083-830b-dff575445462",
   "metadata": {},
   "source": [
    "**5. Alla fine, basandosi sui calcoli fatti, il committente chiede di stilare un breve (tre o quattro righe) paragrafo testuale riassuntivo \n",
    "sulle statistiche di casi e vaccinazioni, che si concentri solo sulle differenze esistenti tra Europa, Sud America e Oceania.**\n"
   ]
  },
  {
   "cell_type": "raw",
   "id": "a1bfdeeb-30be-4a22-9cb9-69150a4002ca",
   "metadata": {},
   "source": [
    "'''\n",
    "casi covid       media    massimo    minimo    %_sul_mondo\n",
    "------------  --------  ---------  --------  -------------\n",
    "Europe         3973.78      500563         0        7.67445\n",
    "Oceania        476.438      588813         0        0.43322\n",
    "South America  3983.28      298408         0        2.11064\n",
    "\n",
    "vaccinazioni      media          massimo    minimo    %_sul_mondo\n",
    "--------------  -------  ---------------  --------  -------------\n",
    "Europe           60008.3      2.38947e+06        0       2.43659\n",
    "Oceania           56859       351226             1       0.143617\n",
    "South America    150921       3.9766e+06         1       1.62425\n",
    "\n",
    "'''"
   ]
  },
  {
   "cell_type": "markdown",
   "id": "9aa7b8c7-3a66-4d85-bb0c-189013a4bdff",
   "metadata": {},
   "source": [
    "Dall'analisi svolta sui casi covid risulta che l'Europa impatta di più riguardo alla % sul mondo, mentre sulla media svetta il Sud America, che quindi si presenta come lo stato più dilaniato nel tempo.\n",
    "Nonostante l'Oceania sia il continente meno popoloso, raggiunge un picco di contagi superiore a Europa e Sud America.\n",
    "\n",
    "Sulle vaccinazioni possiamo concludere invece che il Sud America detiene il primo posto sul picco massimo e sulla media delle vaccinazioni, mentre l'Europa risulta di nuovo essere la più impattante a livello mondiale.\n",
    "Notiamo invece che l'Oceania è il continente dove si fanno meno vaccinazioni."
   ]
  },
  {
   "cell_type": "code",
   "execution_count": null,
   "id": "52797801-4245-4903-8517-f41abc29a983",
   "metadata": {},
   "outputs": [],
   "source": []
  }
 ],
 "metadata": {
  "kernelspec": {
   "display_name": "Python 3 (ipykernel)",
   "language": "python",
   "name": "python3"
  },
  "language_info": {
   "codemirror_mode": {
    "name": "ipython",
    "version": 3
   },
   "file_extension": ".py",
   "mimetype": "text/x-python",
   "name": "python",
   "nbconvert_exporter": "python",
   "pygments_lexer": "ipython3",
   "version": "3.10.9"
  }
 },
 "nbformat": 4,
 "nbformat_minor": 5
}

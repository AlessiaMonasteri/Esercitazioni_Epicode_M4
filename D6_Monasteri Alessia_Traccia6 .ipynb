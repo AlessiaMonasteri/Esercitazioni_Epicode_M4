{
 "cells": [
  {
   "cell_type": "markdown",
   "id": "9e7d7bb3-acf1-4baf-9539-62622f441d09",
   "metadata": {},
   "source": [
    "ES 3"
   ]
  },
  {
   "cell_type": "code",
   "execution_count": 28,
   "id": "c23d421d-5e4f-4084-9b16-041cb8bf5168",
   "metadata": {},
   "outputs": [
    {
     "name": "stdin",
     "output_type": "stream",
     "text": [
      "Inserisci un numero intero 2\n"
     ]
    },
    {
     "name": "stdout",
     "output_type": "stream",
     "text": [
      "Il numero fa parte della sequenza\n"
     ]
    }
   ],
   "source": [
    "seq=[1,2,-3,4,5,6,-7,8,-9]\n",
    "while True:\n",
    "    numero=input('Inserisci un numero intero')\n",
    "    try:\n",
    "        numero=int(numero)\n",
    "        if numero in seq:\n",
    "            print('Il numero fa parte della sequenza')\n",
    "        else:\n",
    "            print('Il numero non fa parte della sequenza')\n",
    "        break\n",
    "    except ValueError:\n",
    "        print('Non è un numero valido, ritenta!')"
   ]
  },
  {
   "cell_type": "markdown",
   "id": "2329eea3-af43-44ff-a6ba-ecbf0973e8c8",
   "metadata": {},
   "source": [
    "ES 4"
   ]
  },
  {
   "cell_type": "code",
   "execution_count": 29,
   "id": "625de077-98fc-49eb-b8e6-34890049f34b",
   "metadata": {},
   "outputs": [
    {
     "data": {
      "text/plain": [
       "(-30, 2)"
      ]
     },
     "execution_count": 29,
     "metadata": {},
     "output_type": "execute_result"
    }
   ],
   "source": [
    "lista=[1,2,-30,-4,5,-6,7,-10,9]\n",
    "def più_piccolo_in_lista(lista):\n",
    "    minimo=min(lista)\n",
    "    posizione=lista.index(minimo)\n",
    "    return (minimo,posizione)\n",
    "più_piccolo_in_lista(lista)"
   ]
  },
  {
   "cell_type": "markdown",
   "id": "012f3c12-7a95-4ce2-a7ec-98ca6a0f2aed",
   "metadata": {},
   "source": [
    "ES 2"
   ]
  },
  {
   "cell_type": "code",
   "execution_count": 30,
   "id": "f83c0a0b-c71d-44dc-9a94-961fb98dd56e",
   "metadata": {},
   "outputs": [
    {
     "data": {
      "text/plain": [
       "[[1, 2], [3, 4], [5, 6], [78, 9]]"
      ]
     },
     "execution_count": 30,
     "metadata": {},
     "output_type": "execute_result"
    }
   ],
   "source": [
    "def spezzaliste(lista,lungh_righe):\n",
    "    risultato=list()\n",
    "    for k in range(0,len(lista),lungh_righe):\n",
    "        sottolista=lista[k:k+lungh_righe]\n",
    "        risultato.append(sottolista)\n",
    "    return risultato\n",
    "\n",
    "seq=[1,2,3,4,5,6,78,9]\n",
    "spezzaliste(seq,2)"
   ]
  },
  {
   "cell_type": "code",
   "execution_count": null,
   "id": "1fc599ed-b398-45a0-af94-fa017d910648",
   "metadata": {},
   "outputs": [],
   "source": []
  }
 ],
 "metadata": {
  "kernelspec": {
   "display_name": "Python 3 (ipykernel)",
   "language": "python",
   "name": "python3"
  },
  "language_info": {
   "codemirror_mode": {
    "name": "ipython",
    "version": 3
   },
   "file_extension": ".py",
   "mimetype": "text/x-python",
   "name": "python",
   "nbconvert_exporter": "python",
   "pygments_lexer": "ipython3",
   "version": "3.10.9"
  }
 },
 "nbformat": 4,
 "nbformat_minor": 5
}
